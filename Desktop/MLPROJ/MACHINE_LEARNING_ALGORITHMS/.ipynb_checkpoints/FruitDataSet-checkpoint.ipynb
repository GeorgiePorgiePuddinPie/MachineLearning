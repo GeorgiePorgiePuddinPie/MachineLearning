{
 "cells": [
  {
   "cell_type": "code",
   "execution_count": 1,
   "metadata": {},
   "outputs": [],
   "source": [
    "import numpy as np"
   ]
  },
  {
   "cell_type": "code",
   "execution_count": 2,
   "metadata": {},
   "outputs": [],
   "source": [
    "import cv2"
   ]
  },
  {
   "cell_type": "code",
   "execution_count": 3,
   "metadata": {},
   "outputs": [],
   "source": [
    "import pandas as pd"
   ]
  },
  {
   "cell_type": "code",
   "execution_count": 4,
   "metadata": {},
   "outputs": [],
   "source": [
    "import matplotlib.pyplot as plt"
   ]
  },
  {
   "cell_type": "code",
   "execution_count": 5,
   "metadata": {},
   "outputs": [],
   "source": [
    "from matplotlib.offsetbox import OffsetImage, AnnotationBbox"
   ]
  },
  {
   "cell_type": "code",
   "execution_count": 6,
   "metadata": {},
   "outputs": [],
   "source": [
    "import glob"
   ]
  },
  {
   "cell_type": "code",
   "execution_count": 7,
   "metadata": {},
   "outputs": [],
   "source": [
    "import os"
   ]
  },
  {
   "cell_type": "code",
   "execution_count": 8,
   "metadata": {},
   "outputs": [],
   "source": [
    "from sklearn.decomposition import PCA"
   ]
  },
  {
   "cell_type": "code",
   "execution_count": 9,
   "metadata": {},
   "outputs": [],
   "source": [
    "from sklearn.manifold import TSNE"
   ]
  },
  {
   "cell_type": "code",
   "execution_count": 10,
   "metadata": {},
   "outputs": [],
   "source": [
    "from sklearn.preprocessing import StandardScaler"
   ]
  },
  {
   "cell_type": "code",
   "execution_count": 11,
   "metadata": {},
   "outputs": [],
   "source": [
    "from sklearn.preprocessing import StandardScaler"
   ]
  },
  {
   "cell_type": "code",
   "execution_count": 12,
   "metadata": {},
   "outputs": [],
   "source": [
    "from sklearn.ensemble import RandomForestClassifier"
   ]
  },
  {
   "cell_type": "code",
   "execution_count": 13,
   "metadata": {},
   "outputs": [],
   "source": [
    "from sklearn.model_selection import train_test_split"
   ]
  },
  {
   "cell_type": "code",
   "execution_count": 14,
   "metadata": {},
   "outputs": [],
   "source": [
    "from sklearn.metrics import accuracy_score"
   ]
  },
  {
   "cell_type": "code",
   "execution_count": 15,
   "metadata": {},
   "outputs": [],
   "source": [
    "from sklearn import svm"
   ]
  },
  {
   "cell_type": "code",
   "execution_count": 16,
   "metadata": {},
   "outputs": [],
   "source": [
    "from sklearn.cluster import KMeans"
   ]
  },
  {
   "cell_type": "code",
   "execution_count": null,
   "metadata": {},
   "outputs": [],
   "source": []
  },
  {
   "cell_type": "code",
   "execution_count": null,
   "metadata": {},
   "outputs": [],
   "source": []
  },
  {
   "cell_type": "code",
   "execution_count": 17,
   "metadata": {},
   "outputs": [],
   "source": [
    "fruit_images = []"
   ]
  },
  {
   "cell_type": "code",
   "execution_count": 18,
   "metadata": {},
   "outputs": [],
   "source": [
    "labels = []"
   ]
  },
  {
   "cell_type": "code",
   "execution_count": 19,
   "metadata": {},
   "outputs": [],
   "source": [
    "for fruit_dir_path in glob.glob(\"/Users/georgehardy/Desktop/MLPROJ/fruits-360/Training/*\"):\n",
    "    fruit_label = fruit_dir_path.split(\"/\")[-1]\n",
    "    for image_path in glob.glob(os.path.join(fruit_dir_path, \"*.jpg\")):\n",
    "        image = cv2.imread(image_path, cv2.IMREAD_COLOR)\n",
    "        \n",
    "        image = cv2.resize(image, (45, 45))\n",
    "        image = cv2.cvtColor(image, cv2.COLOR_RGB2BGR)\n",
    "        fruit_images.append(image)\n",
    "        labels.append(fruit_label)\n",
    "        \n",
    "fruit_images = np.array(fruit_images)"
   ]
  },
  {
   "cell_type": "code",
   "execution_count": 20,
   "metadata": {},
   "outputs": [],
   "source": [
    "labels = np.array(labels)\n",
    "label_to_id_dict = {v:i for i,v in enumerate(np.unique(labels))}\n",
    "id_to_label_dict = {v: k for k, v in label_to_id_dict.items()}\n",
    "id_to_label_dict\n",
    "label_ids = np.array([label_to_id_dict[x] for x in labels])\n",
    "scaler = StandardScaler()"
   ]
  },
  {
   "cell_type": "code",
   "execution_count": 21,
   "metadata": {},
   "outputs": [
    {
     "data": {
      "text/plain": [
       "{0: 'Apple Braeburn',\n",
       " 1: 'Apple Golden 1',\n",
       " 2: 'Apple Golden 2',\n",
       " 3: 'Apple Golden 3',\n",
       " 4: 'Apple Granny Smith',\n",
       " 5: 'Apple Red 1',\n",
       " 6: 'Apple Red 2',\n",
       " 7: 'Apple Red 3',\n",
       " 8: 'Apple Red Delicious',\n",
       " 9: 'Apple Red Yellow 1',\n",
       " 10: 'Apple Red Yellow 2',\n",
       " 11: 'Apricot',\n",
       " 12: 'Avocado',\n",
       " 13: 'Avocado ripe',\n",
       " 14: 'Banana',\n",
       " 15: 'Banana Lady Finger',\n",
       " 16: 'Banana Red',\n",
       " 17: 'Cactus fruit',\n",
       " 18: 'Cantaloupe 1',\n",
       " 19: 'Cantaloupe 2',\n",
       " 20: 'Carambula',\n",
       " 21: 'Cherry 1',\n",
       " 22: 'Cherry 2',\n",
       " 23: 'Cherry Rainier',\n",
       " 24: 'Cherry Wax Black',\n",
       " 25: 'Cherry Wax Red',\n",
       " 26: 'Cherry Wax Yellow',\n",
       " 27: 'Chestnut',\n",
       " 28: 'Clementine',\n",
       " 29: 'Cocos',\n",
       " 30: 'Dates',\n",
       " 31: 'Granadilla',\n",
       " 32: 'Grape Blue',\n",
       " 33: 'Grape Pink',\n",
       " 34: 'Grape White',\n",
       " 35: 'Grape White 2',\n",
       " 36: 'Grape White 3',\n",
       " 37: 'Grape White 4',\n",
       " 38: 'Grapefruit Pink',\n",
       " 39: 'Grapefruit White',\n",
       " 40: 'Guava',\n",
       " 41: 'Hazelnut',\n",
       " 42: 'Huckleberry',\n",
       " 43: 'Kaki',\n",
       " 44: 'Kiwi',\n",
       " 45: 'Kumquats',\n",
       " 46: 'Lemon',\n",
       " 47: 'Lemon Meyer',\n",
       " 48: 'Limes',\n",
       " 49: 'Lychee',\n",
       " 50: 'Mandarine',\n",
       " 51: 'Mango',\n",
       " 52: 'Mangostan',\n",
       " 53: 'Maracuja',\n",
       " 54: 'Melon Piel de Sapo',\n",
       " 55: 'Mulberry',\n",
       " 56: 'Nectarine',\n",
       " 57: 'Orange',\n",
       " 58: 'Papaya',\n",
       " 59: 'Passion Fruit',\n",
       " 60: 'Peach',\n",
       " 61: 'Peach 2',\n",
       " 62: 'Peach Flat',\n",
       " 63: 'Pear',\n",
       " 64: 'Pear Abate',\n",
       " 65: 'Pear Kaiser',\n",
       " 66: 'Pear Monster',\n",
       " 67: 'Pear Williams',\n",
       " 68: 'Pepino',\n",
       " 69: 'Physalis',\n",
       " 70: 'Physalis with Husk',\n",
       " 71: 'Pineapple',\n",
       " 72: 'Pineapple Mini',\n",
       " 73: 'Pitahaya Red',\n",
       " 74: 'Plum',\n",
       " 75: 'Plum 2',\n",
       " 76: 'Plum 3',\n",
       " 77: 'Pomegranate',\n",
       " 78: 'Pomelo Sweetie',\n",
       " 79: 'Quince',\n",
       " 80: 'Rambutan',\n",
       " 81: 'Raspberry',\n",
       " 82: 'Redcurrant',\n",
       " 83: 'Salak',\n",
       " 84: 'Strawberry',\n",
       " 85: 'Strawberry Wedge',\n",
       " 86: 'Tamarillo',\n",
       " 87: 'Tangelo',\n",
       " 88: 'Tomato 1',\n",
       " 89: 'Tomato 2',\n",
       " 90: 'Tomato 3',\n",
       " 91: 'Tomato 4',\n",
       " 92: 'Tomato Cherry Red',\n",
       " 93: 'Tomato Maroon',\n",
       " 94: 'Walnut'}"
      ]
     },
     "execution_count": 21,
     "metadata": {},
     "output_type": "execute_result"
    }
   ],
   "source": [
    "id_to_label_dict"
   ]
  },
  {
   "cell_type": "code",
   "execution_count": 21,
   "metadata": {},
   "outputs": [],
   "source": [
    "images_scaled = scaler.fit_transform([i.flatten() for i in fruit_images])"
   ]
  },
  {
   "cell_type": "code",
   "execution_count": 22,
   "metadata": {},
   "outputs": [],
   "source": [
    "pca = PCA(n_components=50)"
   ]
  },
  {
   "cell_type": "code",
   "execution_count": 23,
   "metadata": {},
   "outputs": [
    {
     "name": "stdout",
     "output_type": "stream",
     "text": [
      "Accuracy with RandomForest: 99.623783\n"
     ]
    }
   ],
   "source": [
    "pca_result = pca.fit_transform(images_scaled)\n",
    "tsne = TSNE(n_components=2, perplexity=40.0)\n",
    "tsne_result = tsne.fit_transform(pca_result)\n",
    "tsne_result_scaled = StandardScaler().fit_transform(tsne_result)\n",
    "X_train, X_test, y_train, y_test = train_test_split(pca_result, label_ids, test_size=0.25, random_state=42)\n",
    "\n",
    "\n",
    "forest = RandomForestClassifier(n_estimators=10)\n",
    "forest = forest.fit(X_train, y_train)\n",
    "test_predictions = forest.predict(X_test)\n",
    "precision = accuracy_score(test_predictions, y_test) * 100\n",
    "print(\"Accuracy with RandomForest: {0:.6f}\".format(precision))"
   ]
  },
  {
   "cell_type": "code",
   "execution_count": null,
   "metadata": {},
   "outputs": [],
   "source": []
  },
  {
   "cell_type": "code",
   "execution_count": 24,
   "metadata": {},
   "outputs": [],
   "source": [
    "validation_fruit_images = []\n",
    "validation_labels = [] \n",
    "for fruit_dir_path in glob.glob(\"/Users/georgehardy/Desktop/MLPROJ/fruits-360/Test/*\"):\n",
    "    fruit_label = fruit_dir_path.split(\"/\")[-1]\n",
    "    for image_path in glob.glob(os.path.join(fruit_dir_path, \"*.jpg\")):\n",
    "        image = cv2.imread(image_path, cv2.IMREAD_COLOR)\n",
    "        \n",
    "        image = cv2.resize(image, (45, 45))\n",
    "        image = cv2.cvtColor(image, cv2.COLOR_RGB2BGR)\n",
    "        \n",
    "        validation_fruit_images.append(image)\n",
    "        validation_labels.append(fruit_label)\n",
    "validation_fruit_images = np.array(validation_fruit_images)\n",
    "validation_labels = np.array(validation_labels)"
   ]
  },
  {
   "cell_type": "code",
   "execution_count": 25,
   "metadata": {},
   "outputs": [],
   "source": [
    "validation_label_ids = np.array([label_to_id_dict[x] for x in validation_labels])"
   ]
  },
  {
   "cell_type": "code",
   "execution_count": 26,
   "metadata": {},
   "outputs": [],
   "source": [
    "validation_images_scaled = scaler.transform([i.flatten() for i in validation_fruit_images])"
   ]
  },
  {
   "cell_type": "code",
   "execution_count": 27,
   "metadata": {},
   "outputs": [],
   "source": [
    "validation_pca_result = pca.transform(validation_images_scaled)"
   ]
  },
  {
   "cell_type": "code",
   "execution_count": null,
   "metadata": {},
   "outputs": [],
   "source": []
  },
  {
   "cell_type": "code",
   "execution_count": 28,
   "metadata": {},
   "outputs": [],
   "source": [
    "test_predictions = forest.predict(validation_pca_result)"
   ]
  },
  {
   "cell_type": "code",
   "execution_count": 29,
   "metadata": {},
   "outputs": [
    {
     "name": "stdout",
     "output_type": "stream",
     "text": [
      "Validation Accuracy with Random Forest: 88.009256\n"
     ]
    }
   ],
   "source": [
    "precision = accuracy_score(test_predictions, validation_label_ids) * 100\n",
    "print(\"Validation Accuracy with Random Forest: {0:.6f}\".format(precision))"
   ]
  },
  {
   "cell_type": "code",
   "execution_count": null,
   "metadata": {},
   "outputs": [],
   "source": []
  }
 ],
 "metadata": {
  "kernelspec": {
   "display_name": "Python 3",
   "language": "python",
   "name": "python3"
  },
  "language_info": {
   "codemirror_mode": {
    "name": "ipython",
    "version": 3
   },
   "file_extension": ".py",
   "mimetype": "text/x-python",
   "name": "python",
   "nbconvert_exporter": "python",
   "pygments_lexer": "ipython3",
   "version": "3.7.2"
  }
 },
 "nbformat": 4,
 "nbformat_minor": 2
}
